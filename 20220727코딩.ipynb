{
  "nbformat": 4,
  "nbformat_minor": 0,
  "metadata": {
    "colab": {
      "name": "20220727코딩",
      "provenance": []
    },
    "kernelspec": {
      "name": "python3",
      "display_name": "Python 3"
    },
    "language_info": {
      "name": "python"
    }
  },
  "cells": [
    {
      "cell_type": "code",
      "execution_count": 22,
      "metadata": {
        "colab": {
          "base_uri": "https://localhost:8080/",
          "height": 611
        },
        "id": "Anr4h2N1HNUN",
        "outputId": "479e40e3-1f36-4995-f1ae-482b2e6fab4d"
      },
      "outputs": [
        {
          "output_type": "error",
          "ename": "KeyboardInterrupt",
          "evalue": "ignored",
          "traceback": [
            "\u001b[0;31m---------------------------------------------------------------------------\u001b[0m",
            "\u001b[0;31mKeyboardInterrupt\u001b[0m                         Traceback (most recent call last)",
            "\u001b[0;32m/usr/local/lib/python3.7/dist-packages/ipykernel/kernelbase.py\u001b[0m in \u001b[0;36m_input_request\u001b[0;34m(self, prompt, ident, parent, password)\u001b[0m\n\u001b[1;32m    728\u001b[0m             \u001b[0;32mtry\u001b[0m\u001b[0;34m:\u001b[0m\u001b[0;34m\u001b[0m\u001b[0;34m\u001b[0m\u001b[0m\n\u001b[0;32m--> 729\u001b[0;31m                 \u001b[0mident\u001b[0m\u001b[0;34m,\u001b[0m \u001b[0mreply\u001b[0m \u001b[0;34m=\u001b[0m \u001b[0mself\u001b[0m\u001b[0;34m.\u001b[0m\u001b[0msession\u001b[0m\u001b[0;34m.\u001b[0m\u001b[0mrecv\u001b[0m\u001b[0;34m(\u001b[0m\u001b[0mself\u001b[0m\u001b[0;34m.\u001b[0m\u001b[0mstdin_socket\u001b[0m\u001b[0;34m,\u001b[0m \u001b[0;36m0\u001b[0m\u001b[0;34m)\u001b[0m\u001b[0;34m\u001b[0m\u001b[0;34m\u001b[0m\u001b[0m\n\u001b[0m\u001b[1;32m    730\u001b[0m             \u001b[0;32mexcept\u001b[0m \u001b[0mException\u001b[0m\u001b[0;34m:\u001b[0m\u001b[0;34m\u001b[0m\u001b[0;34m\u001b[0m\u001b[0m\n",
            "\u001b[0;32m/usr/local/lib/python3.7/dist-packages/jupyter_client/session.py\u001b[0m in \u001b[0;36mrecv\u001b[0;34m(self, socket, mode, content, copy)\u001b[0m\n\u001b[1;32m    802\u001b[0m         \u001b[0;32mtry\u001b[0m\u001b[0;34m:\u001b[0m\u001b[0;34m\u001b[0m\u001b[0;34m\u001b[0m\u001b[0m\n\u001b[0;32m--> 803\u001b[0;31m             \u001b[0mmsg_list\u001b[0m \u001b[0;34m=\u001b[0m \u001b[0msocket\u001b[0m\u001b[0;34m.\u001b[0m\u001b[0mrecv_multipart\u001b[0m\u001b[0;34m(\u001b[0m\u001b[0mmode\u001b[0m\u001b[0;34m,\u001b[0m \u001b[0mcopy\u001b[0m\u001b[0;34m=\u001b[0m\u001b[0mcopy\u001b[0m\u001b[0;34m)\u001b[0m\u001b[0;34m\u001b[0m\u001b[0;34m\u001b[0m\u001b[0m\n\u001b[0m\u001b[1;32m    804\u001b[0m         \u001b[0;32mexcept\u001b[0m \u001b[0mzmq\u001b[0m\u001b[0;34m.\u001b[0m\u001b[0mZMQError\u001b[0m \u001b[0;32mas\u001b[0m \u001b[0me\u001b[0m\u001b[0;34m:\u001b[0m\u001b[0;34m\u001b[0m\u001b[0;34m\u001b[0m\u001b[0m\n",
            "\u001b[0;32m/usr/local/lib/python3.7/dist-packages/zmq/sugar/socket.py\u001b[0m in \u001b[0;36mrecv_multipart\u001b[0;34m(self, flags, copy, track)\u001b[0m\n\u001b[1;32m    726\u001b[0m         \"\"\"\n\u001b[0;32m--> 727\u001b[0;31m         \u001b[0mparts\u001b[0m \u001b[0;34m=\u001b[0m \u001b[0;34m[\u001b[0m\u001b[0mself\u001b[0m\u001b[0;34m.\u001b[0m\u001b[0mrecv\u001b[0m\u001b[0;34m(\u001b[0m\u001b[0mflags\u001b[0m\u001b[0;34m,\u001b[0m \u001b[0mcopy\u001b[0m\u001b[0;34m=\u001b[0m\u001b[0mcopy\u001b[0m\u001b[0;34m,\u001b[0m \u001b[0mtrack\u001b[0m\u001b[0;34m=\u001b[0m\u001b[0mtrack\u001b[0m\u001b[0;34m)\u001b[0m\u001b[0;34m]\u001b[0m\u001b[0;34m\u001b[0m\u001b[0;34m\u001b[0m\u001b[0m\n\u001b[0m\u001b[1;32m    728\u001b[0m         \u001b[0;31m# have first part already, only loop while more to receive\u001b[0m\u001b[0;34m\u001b[0m\u001b[0;34m\u001b[0m\u001b[0;34m\u001b[0m\u001b[0m\n",
            "\u001b[0;32mzmq/backend/cython/socket.pyx\u001b[0m in \u001b[0;36mzmq.backend.cython.socket.Socket.recv\u001b[0;34m()\u001b[0m\n",
            "\u001b[0;32mzmq/backend/cython/socket.pyx\u001b[0m in \u001b[0;36mzmq.backend.cython.socket.Socket.recv\u001b[0;34m()\u001b[0m\n",
            "\u001b[0;32mzmq/backend/cython/socket.pyx\u001b[0m in \u001b[0;36mzmq.backend.cython.socket._recv_copy\u001b[0;34m()\u001b[0m\n",
            "\u001b[0;32m/usr/local/lib/python3.7/dist-packages/zmq/backend/cython/checkrc.pxd\u001b[0m in \u001b[0;36mzmq.backend.cython.checkrc._check_rc\u001b[0;34m()\u001b[0m\n",
            "\u001b[0;31mKeyboardInterrupt\u001b[0m: ",
            "\nDuring handling of the above exception, another exception occurred:\n",
            "\u001b[0;31mKeyboardInterrupt\u001b[0m                         Traceback (most recent call last)",
            "\u001b[0;32m<ipython-input-22-d2a355679af4>\u001b[0m in \u001b[0;36m<module>\u001b[0;34m()\u001b[0m\n\u001b[1;32m      1\u001b[0m \u001b[0;32mwhile\u001b[0m \u001b[0;32mTrue\u001b[0m\u001b[0;34m:\u001b[0m\u001b[0;34m\u001b[0m\u001b[0;34m\u001b[0m\u001b[0m\n\u001b[1;32m      2\u001b[0m   \u001b[0;31m#입력값 받기\u001b[0m\u001b[0;34m\u001b[0m\u001b[0;34m\u001b[0m\u001b[0;34m\u001b[0m\u001b[0m\n\u001b[0;32m----> 3\u001b[0;31m   \u001b[0m사칙연산\u001b[0m \u001b[0;34m=\u001b[0m \u001b[0minput\u001b[0m\u001b[0;34m(\u001b[0m\u001b[0;34m\"사칙연산 기호(+.-.*/)를 입혁해주세요\"\u001b[0m\u001b[0;34m)\u001b[0m\u001b[0;34m\u001b[0m\u001b[0;34m\u001b[0m\u001b[0m\n\u001b[0m\u001b[1;32m      4\u001b[0m   \u001b[0m첫번째숫자\u001b[0m \u001b[0;34m=\u001b[0m \u001b[0mint\u001b[0m\u001b[0;34m(\u001b[0m\u001b[0minput\u001b[0m\u001b[0;34m(\u001b[0m\u001b[0;34m\"첫번째 숫자를 입력해주세요\"\u001b[0m\u001b[0;34m)\u001b[0m\u001b[0;34m)\u001b[0m\u001b[0;34m\u001b[0m\u001b[0;34m\u001b[0m\u001b[0m\n\u001b[1;32m      5\u001b[0m   \u001b[0m두번째숫자\u001b[0m \u001b[0;34m=\u001b[0m \u001b[0mint\u001b[0m\u001b[0;34m(\u001b[0m\u001b[0minput\u001b[0m\u001b[0;34m(\u001b[0m\u001b[0;34m\"두번째 숫자를 입력해주세요\"\u001b[0m\u001b[0;34m)\u001b[0m\u001b[0;34m)\u001b[0m\u001b[0;34m\u001b[0m\u001b[0;34m\u001b[0m\u001b[0m\n",
            "\u001b[0;32m/usr/local/lib/python3.7/dist-packages/ipykernel/kernelbase.py\u001b[0m in \u001b[0;36mraw_input\u001b[0;34m(self, prompt)\u001b[0m\n\u001b[1;32m    702\u001b[0m             \u001b[0mself\u001b[0m\u001b[0;34m.\u001b[0m\u001b[0m_parent_ident\u001b[0m\u001b[0;34m,\u001b[0m\u001b[0;34m\u001b[0m\u001b[0;34m\u001b[0m\u001b[0m\n\u001b[1;32m    703\u001b[0m             \u001b[0mself\u001b[0m\u001b[0;34m.\u001b[0m\u001b[0m_parent_header\u001b[0m\u001b[0;34m,\u001b[0m\u001b[0;34m\u001b[0m\u001b[0;34m\u001b[0m\u001b[0m\n\u001b[0;32m--> 704\u001b[0;31m             \u001b[0mpassword\u001b[0m\u001b[0;34m=\u001b[0m\u001b[0;32mFalse\u001b[0m\u001b[0;34m,\u001b[0m\u001b[0;34m\u001b[0m\u001b[0;34m\u001b[0m\u001b[0m\n\u001b[0m\u001b[1;32m    705\u001b[0m         )\n\u001b[1;32m    706\u001b[0m \u001b[0;34m\u001b[0m\u001b[0m\n",
            "\u001b[0;32m/usr/local/lib/python3.7/dist-packages/ipykernel/kernelbase.py\u001b[0m in \u001b[0;36m_input_request\u001b[0;34m(self, prompt, ident, parent, password)\u001b[0m\n\u001b[1;32m    732\u001b[0m             \u001b[0;32mexcept\u001b[0m \u001b[0mKeyboardInterrupt\u001b[0m\u001b[0;34m:\u001b[0m\u001b[0;34m\u001b[0m\u001b[0;34m\u001b[0m\u001b[0m\n\u001b[1;32m    733\u001b[0m                 \u001b[0;31m# re-raise KeyboardInterrupt, to truncate traceback\u001b[0m\u001b[0;34m\u001b[0m\u001b[0;34m\u001b[0m\u001b[0;34m\u001b[0m\u001b[0m\n\u001b[0;32m--> 734\u001b[0;31m                 \u001b[0;32mraise\u001b[0m \u001b[0mKeyboardInterrupt\u001b[0m\u001b[0;34m\u001b[0m\u001b[0;34m\u001b[0m\u001b[0m\n\u001b[0m\u001b[1;32m    735\u001b[0m             \u001b[0;32melse\u001b[0m\u001b[0;34m:\u001b[0m\u001b[0;34m\u001b[0m\u001b[0;34m\u001b[0m\u001b[0m\n\u001b[1;32m    736\u001b[0m                 \u001b[0;32mbreak\u001b[0m\u001b[0;34m\u001b[0m\u001b[0;34m\u001b[0m\u001b[0m\n",
            "\u001b[0;31mKeyboardInterrupt\u001b[0m: "
          ]
        }
      ],
      "source": [
        "while True:\n",
        "  #입력값 받기\n",
        "  사칙연산 = input(\"사칙연산 기호(+.-.*/)를 입혁해주세요\")\n",
        "  첫번째숫자 = int(input(\"첫번째 숫자를 입력해주세요\"))\n",
        "  두번째숫자 = int(input(\"두번째 숫자를 입력해주세요\"))\n",
        "  #계산 및 출력\n",
        "  if 사칙연산==\"+\":\n",
        "    print(\"더하기입니다\")\n",
        "    print(첫번째숫자+두번째숫자)\n",
        "  elif 사칙연산==\"-\":\n",
        "    print(\"빼기입니다\")\n",
        "    print(첫번째숫자-두번째숫자)\n",
        "  elif 사칙연산==\"*\":\n",
        "    print(\"곱하기입니다\")\n",
        "    print(첫번째숫자*두번째숫자)\n",
        "  elif 사칙연산==\"/\":\n",
        "    print(\"나누기입니다\")\n",
        "    print(첫번째숫자/두번째숫자)\n",
        "    #종료 여부 확인 후 종료\n",
        "    종료여부 = input(\"종료하려면 1을 입력해주세요\")\n",
        "    if 종료여부==\"1\":\n",
        "      print(\"종료합니다.\")\n",
        "      break"
      ]
    },
    {
      "cell_type": "code",
      "source": [
        ""
      ],
      "metadata": {
        "id": "uDQKPYfljEyi"
      },
      "execution_count": null,
      "outputs": []
    },
    {
      "cell_type": "code",
      "source": [
        "#함수만들기. 함수정의 함수선언\n",
        "def hello():\n",
        "  print(\"안녕하세요\")\n",
        "\n",
        "  hello()"
      ],
      "metadata": {
        "id": "Ow_SEpeRHV_-"
      },
      "execution_count": 18,
      "outputs": []
    },
    {
      "cell_type": "code",
      "source": [
        "hello()"
      ],
      "metadata": {
        "id": "9I2kz9VILbDN"
      },
      "execution_count": null,
      "outputs": []
    },
    {
      "cell_type": "code",
      "source": [
        "def helloToName(name):\n",
        "    print(name, \"님 안녕하세요\")\n",
        "    \n",
        "helloToName(\"강승운\")"
      ],
      "metadata": {
        "colab": {
          "base_uri": "https://localhost:8080/"
        },
        "id": "vvWcVzrlLbM7",
        "outputId": "66bac4ff-5521-4463-dd61-cccbe6c31f5b"
      },
      "execution_count": 25,
      "outputs": [
        {
          "output_type": "stream",
          "name": "stdout",
          "text": [
            "강승운 님 안녕하세요\n"
          ]
        }
      ]
    },
    {
      "cell_type": "code",
      "source": [
        "def add(num,num2):\n",
        "    result = num+num2\n",
        "    \n",
        "    add(1,2)"
      ],
      "metadata": {
        "id": "7CW6mFnlL6j-"
      },
      "execution_count": 27,
      "outputs": []
    },
    {
      "cell_type": "code",
      "source": [
        "def 덧셈출력(첫번째수, 두번째수):\n",
        "  덧셈결과 = 첫번째수 + 두번째수"
      ],
      "metadata": {
        "id": "yk1hM5M_MoaC"
      },
      "execution_count": null,
      "outputs": []
    },
    {
      "cell_type": "code",
      "source": [
        "# 아래와 같이 만들어진경우에는\n",
        "# x와 y가 뒤죽박죽이 된다\n",
        "# 함수를 사용할대 명확하지 못하다.\n",
        "def x빼기y(y, x):\n",
        "    뺄셈결과 = x-y\n",
        "    print(뺄셈결과)\n",
        "x빼기y(20, 10)\n",
        "#매개변수를 함수에 넣을때\n",
        "#매개변수명을 지정할 수 있다.\n",
        "x빼기y(x=20, y=10)"
      ],
      "metadata": {
        "colab": {
          "base_uri": "https://localhost:8080/"
        },
        "id": "8Fi3XdaRMogM",
        "outputId": "6e73fb0e-1504-42bf-cdbc-aaaf204537d7"
      },
      "execution_count": 28,
      "outputs": [
        {
          "output_type": "stream",
          "name": "stdout",
          "text": [
            "-10\n",
            "10\n"
          ]
        }
      ]
    },
    {
      "cell_type": "code",
      "source": [
        "def 덧셈뺄셈(x,y):\n",
        "    덧셈결과 = x+y\n",
        "    뺄셈결과 = x-y\n",
        "    return 덧셈결과, 뺄셈결과\n",
        "\n",
        "결과 = 덧셈뺄셈(2,3)\n",
        "print(결과)"
      ],
      "metadata": {
        "colab": {
          "base_uri": "https://localhost:8080/"
        },
        "id": "SeO0OHBQSf_Q",
        "outputId": "269508b8-a3fb-4fe5-eb10-d22ad19118e3"
      },
      "execution_count": 31,
      "outputs": [
        {
          "output_type": "stream",
          "name": "stdout",
          "text": [
            "(5, -1)\n"
          ]
        }
      ]
    },
    {
      "cell_type": "code",
      "source": [
        "def 덧셈뺄셈(x,y):\n",
        "    덧셈결과 = x+y\n",
        "    뺄셈결과 = x-y\n",
        "    return 덧셈결과, 뺄셈결과\n",
        "함수실행결과 = 덧셈뺄셈(20,10)#함수실행결과 = (30, 10)"
      ],
      "metadata": {
        "id": "tchX-0XHTWi_"
      },
      "execution_count": 43,
      "outputs": []
    },
    {
      "cell_type": "code",
      "source": [
        "print(함수실행결과)"
      ],
      "metadata": {
        "colab": {
          "base_uri": "https://localhost:8080/"
        },
        "id": "4tqAzgX7Tq6b",
        "outputId": "6c9fdd83-f982-4909-ef04-e33fa00fb5fa"
      },
      "execution_count": 33,
      "outputs": [
        {
          "output_type": "stream",
          "name": "stdout",
          "text": [
            "(30, 10)\n"
          ]
        }
      ]
    },
    {
      "cell_type": "code",
      "source": [
        "print(type(함수실행결과))"
      ],
      "metadata": {
        "colab": {
          "base_uri": "https://localhost:8080/"
        },
        "id": "kczjioyfTu_g",
        "outputId": "6af5a0c5-7553-4096-fb52-b709e6918898"
      },
      "execution_count": 35,
      "outputs": [
        {
          "output_type": "stream",
          "name": "stdout",
          "text": [
            "<class 'tuple'>\n"
          ]
        }
      ]
    },
    {
      "cell_type": "code",
      "source": [
        "print(함수실행결과[0],함수실행결과[1])"
      ],
      "metadata": {
        "colab": {
          "base_uri": "https://localhost:8080/"
        },
        "id": "adHwfWU3T14K",
        "outputId": "812502fe-3044-44e6-d9aa-7b1f64621324"
      },
      "execution_count": 36,
      "outputs": [
        {
          "output_type": "stream",
          "name": "stdout",
          "text": [
            "30 10\n"
          ]
        }
      ]
    },
    {
      "cell_type": "code",
      "source": [
        "덧셈결과 = 함수실행결과[0]"
      ],
      "metadata": {
        "id": "qno2fzBMUE1c"
      },
      "execution_count": 37,
      "outputs": []
    },
    {
      "cell_type": "code",
      "source": [
        "뺄셈결과 = 함수실행결과[1]"
      ],
      "metadata": {
        "id": "M2_jT0etUI-o"
      },
      "execution_count": 39,
      "outputs": []
    },
    {
      "cell_type": "code",
      "source": [
        "print(덧셈결과)"
      ],
      "metadata": {
        "colab": {
          "base_uri": "https://localhost:8080/"
        },
        "id": "bv_vo5PKUL3O",
        "outputId": "58b44b85-7360-47a3-8e36-bbed6c62dee9"
      },
      "execution_count": 40,
      "outputs": [
        {
          "output_type": "stream",
          "name": "stdout",
          "text": [
            "30\n"
          ]
        }
      ]
    },
    {
      "cell_type": "code",
      "source": [
        "print(뺄셈결과)"
      ],
      "metadata": {
        "colab": {
          "base_uri": "https://localhost:8080/"
        },
        "id": "qvafhwaYURIa",
        "outputId": "029614a7-da6d-4338-e847-14a55ae11810"
      },
      "execution_count": 41,
      "outputs": [
        {
          "output_type": "stream",
          "name": "stdout",
          "text": [
            "10\n"
          ]
        }
      ]
    },
    {
      "cell_type": "code",
      "source": [
        "튜플값1, 튜플값2 = (1,2)\n",
        "print(튜플값1)"
      ],
      "metadata": {
        "colab": {
          "base_uri": "https://localhost:8080/"
        },
        "id": "oN4vlCToUaLx",
        "outputId": "9caca0c3-2897-4df8-c903-832a1ddf3580"
      },
      "execution_count": 44,
      "outputs": [
        {
          "output_type": "stream",
          "name": "stdout",
          "text": [
            "1\n"
          ]
        }
      ]
    },
    {
      "cell_type": "code",
      "source": [
        "덧셈결과, 뺄셈결과 = 덧셈뺄셈(20,10)\n",
        "print(덧셈결과)\n",
        "print(뺄셈결과)"
      ],
      "metadata": {
        "colab": {
          "base_uri": "https://localhost:8080/"
        },
        "id": "RbL6qPfQUg7c",
        "outputId": "f1c13dfc-7b10-48ab-b4d2-461e040d9323"
      },
      "execution_count": 55,
      "outputs": [
        {
          "output_type": "stream",
          "name": "stdout",
          "text": [
            "30\n",
            "10\n"
          ]
        }
      ]
    },
    {
      "cell_type": "code",
      "source": [
        "def 값입력하기():\n",
        "    사칙연산 = input(\"사칙연산 기호(+ - * /)를 입력해주세요\")\n",
        "    첫번째숫자 = int(input(\"첫번째숫자를 입력해주세요\"))\n",
        "    두번째숫자 = int(input(\"두번째숫자를 입력해주세요\"))\n",
        "    return 사칙연산, 첫번째숫자, 두번째숫자\n",
        "\n"
      ],
      "metadata": {
        "id": "Ze1bueDlUrSx"
      },
      "execution_count": 56,
      "outputs": []
    },
    {
      "cell_type": "code",
      "source": [
        "사칙연산, 첫번째숫자, 두번째숫자 = 값입력하기()\n",
        "print(사칙연산, 첫번째숫자, 두번째숫자)"
      ],
      "metadata": {
        "colab": {
          "base_uri": "https://localhost:8080/"
        },
        "id": "ZonIcL0XWZyo",
        "outputId": "735c5e50-9641-496d-8f2d-d85dba4003e2"
      },
      "execution_count": 57,
      "outputs": [
        {
          "output_type": "stream",
          "name": "stdout",
          "text": [
            "사칙연산 기호(+ - * /)를 입력해주세요+\n",
            "첫번째숫자를 입력해주세요1\n",
            "두번째숫자를 입력해주세요2\n",
            "+ 1 2\n"
          ]
        }
      ]
    },
    {
      "cell_type": "code",
      "source": [
        "def 계산및출력(사칙연산, 첫번째숫자, 두번째숫자):\n",
        "  if 사칙연산==\"+\":\n",
        "    print(\"더하기입니다\")\n",
        "    print(첫번째숫자+두번째숫자)\n",
        "  elif 사칙연산==\"-\":\n",
        "    print(\"빼기입니다\")\n",
        "    print(첫번째숫자-두번째숫자)\n",
        "  elif 사칙연산==\"*\":\n",
        "    print(\"곱하기입니다\")\n",
        "    print(첫번째숫자*두번째숫자)\n",
        "  elif 사칙연산==\"/\":\n",
        "    print(\"나누기입니다\")\n",
        "    print(첫번째숫자/두번째숫자)\n"
      ],
      "metadata": {
        "id": "ciuZSNM0WAFa"
      },
      "execution_count": 58,
      "outputs": []
    },
    {
      "cell_type": "code",
      "source": [
        "계산및출력(사칙연산=\"+\" , 첫번째숫자=10, 두번째숫자=20)"
      ],
      "metadata": {
        "colab": {
          "base_uri": "https://localhost:8080/"
        },
        "id": "0UYEfDvHWHGa",
        "outputId": "9608a0bc-1449-4b37-ee02-9e864c8e027c"
      },
      "execution_count": 59,
      "outputs": [
        {
          "output_type": "stream",
          "name": "stdout",
          "text": [
            "더하기입니다\n",
            "30\n"
          ]
        }
      ]
    },
    {
      "cell_type": "code",
      "source": [
        "def 종료여부확인():\n",
        "    종료여부 = input(\"종료하려면 100을 입력해주세요\")\n",
        "    return 종료여부==\"1\""
      ],
      "metadata": {
        "id": "a3au8oziXnNz"
      },
      "execution_count": 60,
      "outputs": []
    },
    {
      "cell_type": "code",
      "source": [
        "종료여부확인()"
      ],
      "metadata": {
        "colab": {
          "base_uri": "https://localhost:8080/"
        },
        "id": "gyYaOtgWXzZL",
        "outputId": "836cfa5d-4cde-4d37-be9c-bf9ab184d1b0"
      },
      "execution_count": 63,
      "outputs": [
        {
          "name": "stdout",
          "output_type": "stream",
          "text": [
            "종료하려면 100을 입력해주세요1\n"
          ]
        },
        {
          "output_type": "execute_result",
          "data": {
            "text/plain": [
              "True"
            ]
          },
          "metadata": {},
          "execution_count": 63
        }
      ]
    },
    {
      "cell_type": "code",
      "source": [
        "while True:\n",
        "    기호, 첫번째숫자, 두번째숫자 = 값입력하기()\n",
        "    계산및출력(기호, 첫번째숫자, 두번째숫자)\n",
        "    종료여부 = 종료여부확인()\n",
        "    if 종료여부:\n",
        "      break"
      ],
      "metadata": {
        "colab": {
          "base_uri": "https://localhost:8080/"
        },
        "id": "U_b6ga9HYnkE",
        "outputId": "7160f0ab-9d3a-412c-ff9f-52ab937418a3"
      },
      "execution_count": 64,
      "outputs": [
        {
          "name": "stdout",
          "output_type": "stream",
          "text": [
            "사칙연산 기호(+ - * /)를 입력해주세요+\n",
            "첫번째숫자를 입력해주세요1\n",
            "두번째숫자를 입력해주세요3\n",
            "더하기입니다\n",
            "4\n",
            "종료하려면 100을 입력해주세요1\n"
          ]
        }
      ]
    },
    {
      "cell_type": "code",
      "source": [
        "string = \"hello\"\n",
        "print(type(string))"
      ],
      "metadata": {
        "colab": {
          "base_uri": "https://localhost:8080/"
        },
        "id": "UGvO3UA8jF8q",
        "outputId": "acb41782-a774-4f78-af54-016966a9a13c"
      },
      "execution_count": 66,
      "outputs": [
        {
          "output_type": "stream",
          "name": "stdout",
          "text": [
            "<class 'str'>\n"
          ]
        }
      ]
    },
    {
      "cell_type": "code",
      "source": [
        "개 = Animal()\n",
        "print(type(개))\n",
        "  Animal.숨쉬기()\n",
        "  Animal.움직이기()\n",
        "  print(\"======================\")\n",
        "  개.숨쉬기()\n",
        "  개.움직이기()\n"
      ],
      "metadata": {
        "colab": {
          "base_uri": "https://localhost:8080/",
          "height": 138
        },
        "id": "_t3aHov4ngX2",
        "outputId": "a8d3b2ab-b9d9-4845-ff53-1de6f7274e2d"
      },
      "execution_count": 85,
      "outputs": [
        {
          "output_type": "error",
          "ename": "IndentationError",
          "evalue": "ignored",
          "traceback": [
            "\u001b[0;36m  File \u001b[0;32m\"<ipython-input-85-8db2c322c947>\"\u001b[0;36m, line \u001b[0;32m3\u001b[0m\n\u001b[0;31m    Animal.숨쉬기()\u001b[0m\n\u001b[0m    ^\u001b[0m\n\u001b[0;31mIndentationError\u001b[0m\u001b[0;31m:\u001b[0m unexpected indent\n"
          ]
        }
      ]
    },
    {
      "cell_type": "code",
      "source": [
        "class Animal:\n",
        "    kor = \"김보현\"\n",
        "    def __init__(self):\n",
        "      print(\"태어났습니다\")\n",
        "    def 숨쉬기():\n",
        "      print(\"숨을 쉽니다\")\n",
        "    def 움직이기():\n",
        "      print(\"몸을 움직입니다\")\n",
        "    def 말하기(self, 문장):\n",
        "     print(문장)\n",
        "    def __del__(self):\n",
        "      print(\"죽었습니다.\")\n",
        "animal = Animal()\n",
        "print(\"===============================\")\n",
        "del animal\n",
        "# animal.숨쉬기()\n",
        "# animal.움직이기()\n",
        "# animal.말하기(\"안녕하세요\")\n",
        "# print(animal.kor)"
      ],
      "metadata": {
        "colab": {
          "base_uri": "https://localhost:8080/"
        },
        "id": "G93dSIHCjfcN",
        "outputId": "eb5e6681-e621-4302-f69f-e23692d89acf"
      },
      "execution_count": 89,
      "outputs": [
        {
          "output_type": "stream",
          "name": "stdout",
          "text": [
            "태어났습니다\n",
            "===============================\n",
            "죽었습니다.\n"
          ]
        }
      ]
    },
    {
      "cell_type": "code",
      "source": [
        "개 = Animal()\n",
        "print(type(개))\n",
        "Animal.숨쉬기()\n",
        "Animal.움직이기()\n",
        "print(\"=========================\")\n",
        "개.숨쉬기()\n",
        "개.움직이기()"
      ],
      "metadata": {
        "colab": {
          "base_uri": "https://localhost:8080/",
          "height": 344
        },
        "id": "Ic1pd_EpkEBA",
        "outputId": "d1229f99-24d6-48bd-9bf4-8bd841f1b9e3"
      },
      "execution_count": 90,
      "outputs": [
        {
          "output_type": "stream",
          "name": "stdout",
          "text": [
            "태어났습니다\n",
            "<class '__main__.Animal'>\n",
            "숨을 쉽니다\n",
            "몸을 움직입니다\n",
            "=========================\n"
          ]
        },
        {
          "output_type": "error",
          "ename": "TypeError",
          "evalue": "ignored",
          "traceback": [
            "\u001b[0;31m---------------------------------------------------------------------------\u001b[0m",
            "\u001b[0;31mTypeError\u001b[0m                                 Traceback (most recent call last)",
            "\u001b[0;32m<ipython-input-90-7f758181f718>\u001b[0m in \u001b[0;36m<module>\u001b[0;34m()\u001b[0m\n\u001b[1;32m      4\u001b[0m \u001b[0mAnimal\u001b[0m\u001b[0;34m.\u001b[0m\u001b[0m움직이기\u001b[0m\u001b[0;34m(\u001b[0m\u001b[0;34m)\u001b[0m\u001b[0;34m\u001b[0m\u001b[0;34m\u001b[0m\u001b[0m\n\u001b[1;32m      5\u001b[0m \u001b[0mprint\u001b[0m\u001b[0;34m(\u001b[0m\u001b[0;34m\"=========================\"\u001b[0m\u001b[0;34m)\u001b[0m\u001b[0;34m\u001b[0m\u001b[0;34m\u001b[0m\u001b[0m\n\u001b[0;32m----> 6\u001b[0;31m \u001b[0m개\u001b[0m\u001b[0;34m.\u001b[0m\u001b[0m숨쉬기\u001b[0m\u001b[0;34m(\u001b[0m\u001b[0;34m)\u001b[0m\u001b[0;34m\u001b[0m\u001b[0;34m\u001b[0m\u001b[0m\n\u001b[0m\u001b[1;32m      7\u001b[0m \u001b[0m개\u001b[0m\u001b[0;34m.\u001b[0m\u001b[0m움직이기\u001b[0m\u001b[0;34m(\u001b[0m\u001b[0;34m)\u001b[0m\u001b[0;34m\u001b[0m\u001b[0;34m\u001b[0m\u001b[0m\n",
            "\u001b[0;31mTypeError\u001b[0m: 숨쉬기() takes 0 positional arguments but 1 was given"
          ]
        },
        {
          "output_type": "stream",
          "name": "stdout",
          "text": [
            "죽었습니다.\n"
          ]
        }
      ]
    },
    {
      "cell_type": "code",
      "source": [
        "class Animal:\n",
        "  def __init__(self,키,생일):\n",
        "    self.키 = 키\n",
        "    self.생일 = 생일\n",
        "    print(\"태어났습니다\")\n",
        "  def 키얻기(self):\n",
        "    print(f\"키는 {self.키}cm 입니다\")\n",
        "  def 생일얻기(self):\n",
        "    print(f\"생일은 {self.생일} 입니다\")\n",
        "  def 숨쉬기():\n",
        "    print(\"숨을 쉽니다\")\n",
        "  def 움직이기():\n",
        "    print(\"몸을 움직입니다\")\n",
        "  def 말하기(self, 문장):\n",
        "    print(문장)\n",
        "  def __del__(self):\n",
        "    print(\"죽었습니다.\")\n",
        "animal = Animal()\n",
        "print(\"===============================\")\n",
        "del animal"
      ],
      "metadata": {
        "colab": {
          "base_uri": "https://localhost:8080/",
          "height": 288
        },
        "id": "D5ePC058lRmW",
        "outputId": "ce138467-ab2e-4f8c-84fc-03613b78dd7b"
      },
      "execution_count": 114,
      "outputs": [
        {
          "output_type": "stream",
          "name": "stdout",
          "text": [
            "죽었습니다.\n",
            "죽었습니다.\n"
          ]
        },
        {
          "output_type": "error",
          "ename": "TypeError",
          "evalue": "ignored",
          "traceback": [
            "\u001b[0;31m---------------------------------------------------------------------------\u001b[0m",
            "\u001b[0;31mTypeError\u001b[0m                                 Traceback (most recent call last)",
            "\u001b[0;32m<ipython-input-114-767fba547a7b>\u001b[0m in \u001b[0;36m<module>\u001b[0;34m()\u001b[0m\n\u001b[1;32m     16\u001b[0m   \u001b[0;32mdef\u001b[0m \u001b[0m__del__\u001b[0m\u001b[0;34m(\u001b[0m\u001b[0mself\u001b[0m\u001b[0;34m)\u001b[0m\u001b[0;34m:\u001b[0m\u001b[0;34m\u001b[0m\u001b[0;34m\u001b[0m\u001b[0m\n\u001b[1;32m     17\u001b[0m     \u001b[0mprint\u001b[0m\u001b[0;34m(\u001b[0m\u001b[0;34m\"죽었습니다.\"\u001b[0m\u001b[0;34m)\u001b[0m\u001b[0;34m\u001b[0m\u001b[0;34m\u001b[0m\u001b[0m\n\u001b[0;32m---> 18\u001b[0;31m \u001b[0manimal\u001b[0m \u001b[0;34m=\u001b[0m \u001b[0mAnimal\u001b[0m\u001b[0;34m(\u001b[0m\u001b[0;34m)\u001b[0m\u001b[0;34m\u001b[0m\u001b[0;34m\u001b[0m\u001b[0m\n\u001b[0m\u001b[1;32m     19\u001b[0m \u001b[0mprint\u001b[0m\u001b[0;34m(\u001b[0m\u001b[0;34m\"===============================\"\u001b[0m\u001b[0;34m)\u001b[0m\u001b[0;34m\u001b[0m\u001b[0;34m\u001b[0m\u001b[0m\n\u001b[1;32m     20\u001b[0m \u001b[0;32mdel\u001b[0m \u001b[0manimal\u001b[0m\u001b[0;34m\u001b[0m\u001b[0;34m\u001b[0m\u001b[0m\n",
            "\u001b[0;31mTypeError\u001b[0m: __init__() missing 2 required positional arguments: '키' and '생일'"
          ]
        }
      ]
    },
    {
      "cell_type": "code",
      "source": [
        "animal = Animal(키 =30, 생일=20061208)\n",
        "print(animal.키)\n",
        "animal.키얻기()"
      ],
      "metadata": {
        "colab": {
          "base_uri": "https://localhost:8080/"
        },
        "id": "YDM2rcqlpuMN",
        "outputId": "66421390-afa3-48f0-c2e2-0a91661d44fc"
      },
      "execution_count": 95,
      "outputs": [
        {
          "output_type": "stream",
          "name": "stdout",
          "text": [
            "태어났습니다\n",
            "30\n",
            "키는 30cm 입니다\n",
            "죽었습니다.\n"
          ]
        }
      ]
    },
    {
      "cell_type": "code",
      "source": [
        "dir(animal)"
      ],
      "metadata": {
        "colab": {
          "base_uri": "https://localhost:8080/"
        },
        "id": "S9SmWFa4qUmg",
        "outputId": "15294142-66c0-45ed-f6e6-38d55583a9cc"
      },
      "execution_count": 96,
      "outputs": [
        {
          "output_type": "execute_result",
          "data": {
            "text/plain": [
              "['__class__',\n",
              " '__del__',\n",
              " '__delattr__',\n",
              " '__dict__',\n",
              " '__dir__',\n",
              " '__doc__',\n",
              " '__eq__',\n",
              " '__format__',\n",
              " '__ge__',\n",
              " '__getattribute__',\n",
              " '__gt__',\n",
              " '__hash__',\n",
              " '__init__',\n",
              " '__init_subclass__',\n",
              " '__le__',\n",
              " '__lt__',\n",
              " '__module__',\n",
              " '__ne__',\n",
              " '__new__',\n",
              " '__reduce__',\n",
              " '__reduce_ex__',\n",
              " '__repr__',\n",
              " '__setattr__',\n",
              " '__sizeof__',\n",
              " '__str__',\n",
              " '__subclasshook__',\n",
              " '__weakref__',\n",
              " '말하기',\n",
              " '생일',\n",
              " '생일얻기',\n",
              " '숨쉬기',\n",
              " '움직이기',\n",
              " '키',\n",
              " '키얻기']"
            ]
          },
          "metadata": {},
          "execution_count": 96
        }
      ]
    },
    {
      "cell_type": "code",
      "source": [
        "print(type(animal.말하기))"
      ],
      "metadata": {
        "colab": {
          "base_uri": "https://localhost:8080/"
        },
        "id": "AMHJDw7Aqpv_",
        "outputId": "dac0f06f-3ae2-4f5e-ddfc-cf4d74764183"
      },
      "execution_count": 98,
      "outputs": [
        {
          "output_type": "stream",
          "name": "stdout",
          "text": [
            "<class 'method'>\n"
          ]
        }
      ]
    },
    {
      "cell_type": "code",
      "source": [
        "class 개(Animal):\n",
        "  def 짖기(self):\n",
        "    print(\"왈\")"
      ],
      "metadata": {
        "id": "DUX0HRjRq3fv"
      },
      "execution_count": 99,
      "outputs": []
    },
    {
      "cell_type": "code",
      "source": [
        "보현 = 개(키=30, 생일=\"오늘\")\n",
        "보현.짖기()"
      ],
      "metadata": {
        "colab": {
          "base_uri": "https://localhost:8080/"
        },
        "id": "YjCSfX9YrA3C",
        "outputId": "919d4414-5f59-46e1-8942-63edb1ff97f6"
      },
      "execution_count": 112,
      "outputs": [
        {
          "output_type": "stream",
          "name": "stdout",
          "text": [
            "태어났습니다\n",
            "왈\n",
            "죽었습니다.\n"
          ]
        }
      ]
    },
    {
      "cell_type": "code",
      "source": [
        "보현.움직이기()"
      ],
      "metadata": {
        "colab": {
          "base_uri": "https://localhost:8080/",
          "height": 176
        },
        "id": "gF70l_sCrKNg",
        "outputId": "335e6241-85d3-45ac-fa2f-cbd1b57b63f9"
      },
      "execution_count": 113,
      "outputs": [
        {
          "output_type": "error",
          "ename": "TypeError",
          "evalue": "ignored",
          "traceback": [
            "\u001b[0;31m---------------------------------------------------------------------------\u001b[0m",
            "\u001b[0;31mTypeError\u001b[0m                                 Traceback (most recent call last)",
            "\u001b[0;32m<ipython-input-113-1bba29cdfb3f>\u001b[0m in \u001b[0;36m<module>\u001b[0;34m()\u001b[0m\n\u001b[0;32m----> 1\u001b[0;31m \u001b[0m보현\u001b[0m\u001b[0;34m.\u001b[0m\u001b[0m움직이기\u001b[0m\u001b[0;34m(\u001b[0m\u001b[0;34m)\u001b[0m\u001b[0;34m\u001b[0m\u001b[0;34m\u001b[0m\u001b[0m\n\u001b[0m",
            "\u001b[0;31mTypeError\u001b[0m: 움직이기() takes 0 positional arguments but 1 was given"
          ]
        }
      ]
    }
  ]
}